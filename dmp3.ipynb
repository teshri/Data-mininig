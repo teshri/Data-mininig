{
 "cells": [
  {
   "cell_type": "code",
   "execution_count": 1,
   "id": "53525882-3f38-4a8e-af3e-fb2cebb0a061",
   "metadata": {},
   "outputs": [],
   "source": [
    "import pandas as pd\n",
    "import numpy as np\n",
    "from sklearn.datasets import load_iris\n",
    "from sklearn.datasets import load_wine\n",
    "from sklearn.preprocessing import StandardScaler"
   ]
  },
  {
   "cell_type": "code",
   "execution_count": 2,
   "id": "3eb5d1c7-e8ea-44bd-bb06-9dd1bacdd2ce",
   "metadata": {},
   "outputs": [],
   "source": [
    "# load wine & iris dataset\n",
    "iris = load_iris()\n",
    "wine = load_wine()\n",
    "\n",
    "# Convert into pandas dataframe\n",
    "iris_df = pd.DataFrame(data=iris.data, columns=iris.feature_names)\n",
    "wine_df = pd.DataFrame(data=wine.data, columns=wine.feature_names)"
   ]
  },
  {
   "cell_type": "code",
   "execution_count": 3,
   "id": "f4e0ca31-bab4-49b7-8d1d-24ea69aaff94",
   "metadata": {},
   "outputs": [],
   "source": [
    "# Initialized Standard Scaler\n",
    "scaler = StandardScaler()\n",
    "\n",
    "wine_df_stdzed = scaler.fit_transform(wine_df)\n",
    "iris_df_stdzed = scaler.fit_transform(iris_df)\n",
    "\n",
    "# Convert the standardized data back to a DataFrame\n",
    "wine_df = pd.DataFrame(wine_df_stdzed, columns=wine_df.columns)\n",
    "iris_df = pd.DataFrame(iris_df_stdzed, columns=iris_df.columns)"
   ]
  },
  {
   "cell_type": "code",
   "execution_count": 6,
   "id": "fde25747-e95f-4c8c-9d5a-d453b332ec8c",
   "metadata": {},
   "outputs": [
    {
     "name": "stdout",
     "output_type": "stream",
     "text": [
      "<class 'pandas.core.frame.DataFrame'>\n",
      "RangeIndex: 150 entries, 0 to 149\n",
      "Data columns (total 4 columns):\n",
      " #   Column             Non-Null Count  Dtype  \n",
      "---  ------             --------------  -----  \n",
      " 0   sepal length (cm)  150 non-null    float64\n",
      " 1   sepal width (cm)   150 non-null    float64\n",
      " 2   petal length (cm)  150 non-null    float64\n",
      " 3   petal width (cm)   150 non-null    float64\n",
      "dtypes: float64(4)\n",
      "memory usage: 4.8 KB\n"
     ]
    }
   ],
   "source": [
    "iris_df.info()"
   ]
  }
 ],
 "metadata": {
  "kernelspec": {
   "display_name": "Python 3 (ipykernel)",
   "language": "python",
   "name": "python3"
  },
  "language_info": {
   "codemirror_mode": {
    "name": "ipython",
    "version": 3
   },
   "file_extension": ".py",
   "mimetype": "text/x-python",
   "name": "python",
   "nbconvert_exporter": "python",
   "pygments_lexer": "ipython3",
   "version": "3.12.0b2"
  }
 },
 "nbformat": 4,
 "nbformat_minor": 5
}
