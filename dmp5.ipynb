{
 "cells": [
  {
   "cell_type": "code",
   "execution_count": 1,
   "id": "15ce7975-3106-441f-9fee-ecace0dc5ae3",
   "metadata": {},
   "outputs": [],
   "source": [
    "import pandas as pd\n",
    "import numpy as np\n",
    "\n",
    "from sklearn.preprocessing import StandardScaler\n",
    "\n",
    "from sklearn.neighbors import KNeighborsClassifier\n",
    "from sklearn.tree import DecisionTreeClassifier\n",
    "from sklearn.naive_bayes import GaussianNB\n",
    "\n",
    "from sklearn.metrics import accuracy_score\n",
    "from sklearn.model_selection import KFold, cross_val_score,cross_validate\n",
    "from sklearn.model_selection import train_test_split\n",
    "from sklearn.model_selection import GridSearchCV\n",
    "from sklearn.feature_selection import SelectFromModel"
   ]
  },
  {
   "cell_type": "code",
   "execution_count": 2,
   "id": "c549c5ee-2856-4d44-9838-69bbf75de4af",
   "metadata": {},
   "outputs": [],
   "source": [
    "df1 = pd.read_csv('diabetes.csv')\n",
    "df2 = pd.read_csv('Thyroid_Diff.csv')"
   ]
  },
  {
   "cell_type": "markdown",
   "id": "62008bdb-63d9-4c51-a81d-b80fcd98bcf8",
   "metadata": {},
   "source": [
    "Pre-Processing Dataframe 1"
   ]
  },
  {
   "cell_type": "code",
   "execution_count": 3,
   "id": "014fe2a6-3d4d-40ac-95eb-457358618d06",
   "metadata": {},
   "outputs": [
    {
     "name": "stdout",
     "output_type": "stream",
     "text": [
      "<class 'pandas.core.frame.DataFrame'>\n",
      "RangeIndex: 768 entries, 0 to 767\n",
      "Data columns (total 9 columns):\n",
      " #   Column                    Non-Null Count  Dtype  \n",
      "---  ------                    --------------  -----  \n",
      " 0   Pregnancies               768 non-null    int64  \n",
      " 1   Glucose                   768 non-null    int64  \n",
      " 2   BloodPressure             768 non-null    int64  \n",
      " 3   SkinThickness             768 non-null    int64  \n",
      " 4   Insulin                   768 non-null    int64  \n",
      " 5   BMI                       768 non-null    float64\n",
      " 6   DiabetesPedigreeFunction  768 non-null    float64\n",
      " 7   Age                       768 non-null    int64  \n",
      " 8   Outcome                   768 non-null    int64  \n",
      "dtypes: float64(2), int64(7)\n",
      "memory usage: 54.1 KB\n"
     ]
    }
   ],
   "source": [
    "df1.info() #already preprocessed"
   ]
  },
  {
   "cell_type": "markdown",
   "id": "1a240b1b-33a7-406c-acae-49c874b8a524",
   "metadata": {},
   "source": [
    "Pre-Processing Dataframe 2"
   ]
  },
  {
   "cell_type": "code",
   "execution_count": 4,
   "id": "6a0c378d-b2a2-4cd6-8d67-cb4712118eda",
   "metadata": {},
   "outputs": [
    {
     "name": "stdout",
     "output_type": "stream",
     "text": [
      "<class 'pandas.core.frame.DataFrame'>\n",
      "RangeIndex: 383 entries, 0 to 382\n",
      "Data columns (total 17 columns):\n",
      " #   Column                Non-Null Count  Dtype \n",
      "---  ------                --------------  ----- \n",
      " 0   Age                   383 non-null    int64 \n",
      " 1   Gender                383 non-null    object\n",
      " 2   Smoking               383 non-null    object\n",
      " 3   Hx Smoking            383 non-null    object\n",
      " 4   Hx Radiothreapy       383 non-null    object\n",
      " 5   Thyroid Function      383 non-null    object\n",
      " 6   Physical Examination  383 non-null    object\n",
      " 7   Adenopathy            383 non-null    object\n",
      " 8   Pathology             383 non-null    object\n",
      " 9   Focality              383 non-null    object\n",
      " 10  Risk                  383 non-null    object\n",
      " 11  T                     383 non-null    object\n",
      " 12  N                     383 non-null    object\n",
      " 13  M                     383 non-null    object\n",
      " 14  Stage                 383 non-null    object\n",
      " 15  Response              383 non-null    object\n",
      " 16  Recurred              383 non-null    object\n",
      "dtypes: int64(1), object(16)\n",
      "memory usage: 51.0+ KB\n"
     ]
    }
   ],
   "source": [
    "df2.info()"
   ]
  },
  {
   "cell_type": "code",
   "execution_count": 5,
   "id": "dd73485c-a3ba-4035-b77f-cb1f63311a98",
   "metadata": {},
   "outputs": [],
   "source": [
    "list_for_onehot = ['Thyroid Function','Physical Examination','Adenopathy','Pathology',\n",
    "                   'Pathology','Risk','T','N','Stage','Response']"
   ]
  },
  {
   "cell_type": "code",
   "execution_count": 6,
   "id": "c8cb891e-5c77-42cf-86ba-d32a8347f03e",
   "metadata": {},
   "outputs": [],
   "source": [
    "# binary categorical --> to --> binary numerical\n",
    "\n",
    "df2['Gender'] = (df2['Gender']=='M').astype(int)\n",
    "df2['Smoking'] = (df2['Smoking']=='Yes').astype(int)\n",
    "df2['Hx Smoking'] = (df2['Hx Smoking']=='Yes').astype(int)\n",
    "df2['Hx Radiothreapy'] = (df2['Hx Radiothreapy']=='Yes').astype(int)\n",
    "df2['Focality'] = (df2['Focality']=='Uni-Focal').astype(int)\n",
    "df2['M'] = (df2['M']=='M1').astype(int)\n",
    "df2['Recurred'] = (df2['Recurred']=='Yes').astype(int)"
   ]
  },
  {
   "cell_type": "code",
   "execution_count": 7,
   "id": "e71b8c2a-49ae-4cfd-8a90-6401d9e75705",
   "metadata": {},
   "outputs": [
    {
     "name": "stdout",
     "output_type": "stream",
     "text": [
      "<class 'pandas.core.frame.DataFrame'>\n",
      "RangeIndex: 383 entries, 0 to 382\n",
      "Data columns (total 54 columns):\n",
      " #   Column                                            Non-Null Count  Dtype\n",
      "---  ------                                            --------------  -----\n",
      " 0   Age                                               383 non-null    int64\n",
      " 1   Gender                                            383 non-null    int32\n",
      " 2   Smoking                                           383 non-null    int32\n",
      " 3   Hx Smoking                                        383 non-null    int32\n",
      " 4   Hx Radiothreapy                                   383 non-null    int32\n",
      " 5   Focality                                          383 non-null    int32\n",
      " 6   M                                                 383 non-null    int32\n",
      " 7   Recurred                                          383 non-null    int32\n",
      " 8   Thyroid Function_Clinical Hyperthyroidism         383 non-null    bool \n",
      " 9   Thyroid Function_Clinical Hypothyroidism          383 non-null    bool \n",
      " 10  Thyroid Function_Euthyroid                        383 non-null    bool \n",
      " 11  Thyroid Function_Subclinical Hyperthyroidism      383 non-null    bool \n",
      " 12  Thyroid Function_Subclinical Hypothyroidism       383 non-null    bool \n",
      " 13  Physical Examination_Diffuse goiter               383 non-null    bool \n",
      " 14  Physical Examination_Multinodular goiter          383 non-null    bool \n",
      " 15  Physical Examination_Normal                       383 non-null    bool \n",
      " 16  Physical Examination_Single nodular goiter-left   383 non-null    bool \n",
      " 17  Physical Examination_Single nodular goiter-right  383 non-null    bool \n",
      " 18  Adenopathy_Bilateral                              383 non-null    bool \n",
      " 19  Adenopathy_Extensive                              383 non-null    bool \n",
      " 20  Adenopathy_Left                                   383 non-null    bool \n",
      " 21  Adenopathy_No                                     383 non-null    bool \n",
      " 22  Adenopathy_Posterior                              383 non-null    bool \n",
      " 23  Adenopathy_Right                                  383 non-null    bool \n",
      " 24  Pathology_Follicular                              383 non-null    bool \n",
      " 25  Pathology_Hurthel cell                            383 non-null    bool \n",
      " 26  Pathology_Micropapillary                          383 non-null    bool \n",
      " 27  Pathology_Papillary                               383 non-null    bool \n",
      " 28  Pathology_Follicular                              383 non-null    bool \n",
      " 29  Pathology_Hurthel cell                            383 non-null    bool \n",
      " 30  Pathology_Micropapillary                          383 non-null    bool \n",
      " 31  Pathology_Papillary                               383 non-null    bool \n",
      " 32  Risk_High                                         383 non-null    bool \n",
      " 33  Risk_Intermediate                                 383 non-null    bool \n",
      " 34  Risk_Low                                          383 non-null    bool \n",
      " 35  T_T1a                                             383 non-null    bool \n",
      " 36  T_T1b                                             383 non-null    bool \n",
      " 37  T_T2                                              383 non-null    bool \n",
      " 38  T_T3a                                             383 non-null    bool \n",
      " 39  T_T3b                                             383 non-null    bool \n",
      " 40  T_T4a                                             383 non-null    bool \n",
      " 41  T_T4b                                             383 non-null    bool \n",
      " 42  N_N0                                              383 non-null    bool \n",
      " 43  N_N1a                                             383 non-null    bool \n",
      " 44  N_N1b                                             383 non-null    bool \n",
      " 45  Stage_I                                           383 non-null    bool \n",
      " 46  Stage_II                                          383 non-null    bool \n",
      " 47  Stage_III                                         383 non-null    bool \n",
      " 48  Stage_IVA                                         383 non-null    bool \n",
      " 49  Stage_IVB                                         383 non-null    bool \n",
      " 50  Response_Biochemical Incomplete                   383 non-null    bool \n",
      " 51  Response_Excellent                                383 non-null    bool \n",
      " 52  Response_Indeterminate                            383 non-null    bool \n",
      " 53  Response_Structural Incomplete                    383 non-null    bool \n",
      "dtypes: bool(46), int32(7), int64(1)\n",
      "memory usage: 30.8 KB\n"
     ]
    }
   ],
   "source": [
    "df2 = pd.get_dummies(df2, columns = list_for_onehot)\n",
    "df2.info()"
   ]
  },
  {
   "cell_type": "code",
   "execution_count": 8,
   "id": "bd25da87-3f67-4b49-967e-7c6d9a3b40e0",
   "metadata": {},
   "outputs": [
    {
     "name": "stdout",
     "output_type": "stream",
     "text": [
      "<class 'pandas.core.frame.DataFrame'>\n",
      "RangeIndex: 383 entries, 0 to 382\n",
      "Data columns (total 54 columns):\n",
      " #   Column                                            Non-Null Count  Dtype\n",
      "---  ------                                            --------------  -----\n",
      " 0   Age                                               383 non-null    int64\n",
      " 1   Gender                                            383 non-null    int32\n",
      " 2   Smoking                                           383 non-null    int32\n",
      " 3   Hx Smoking                                        383 non-null    int32\n",
      " 4   Hx Radiothreapy                                   383 non-null    int32\n",
      " 5   Focality                                          383 non-null    int32\n",
      " 6   M                                                 383 non-null    int32\n",
      " 7   Recurred                                          383 non-null    int32\n",
      " 8   Thyroid Function_Clinical Hyperthyroidism         383 non-null    int64\n",
      " 9   Thyroid Function_Clinical Hypothyroidism          383 non-null    int64\n",
      " 10  Thyroid Function_Euthyroid                        383 non-null    int64\n",
      " 11  Thyroid Function_Subclinical Hyperthyroidism      383 non-null    int64\n",
      " 12  Thyroid Function_Subclinical Hypothyroidism       383 non-null    int64\n",
      " 13  Physical Examination_Diffuse goiter               383 non-null    int64\n",
      " 14  Physical Examination_Multinodular goiter          383 non-null    int64\n",
      " 15  Physical Examination_Normal                       383 non-null    int64\n",
      " 16  Physical Examination_Single nodular goiter-left   383 non-null    int64\n",
      " 17  Physical Examination_Single nodular goiter-right  383 non-null    int64\n",
      " 18  Adenopathy_Bilateral                              383 non-null    int64\n",
      " 19  Adenopathy_Extensive                              383 non-null    int64\n",
      " 20  Adenopathy_Left                                   383 non-null    int64\n",
      " 21  Adenopathy_No                                     383 non-null    int64\n",
      " 22  Adenopathy_Posterior                              383 non-null    int64\n",
      " 23  Adenopathy_Right                                  383 non-null    int64\n",
      " 24  Pathology_Follicular                              383 non-null    int64\n",
      " 25  Pathology_Hurthel cell                            383 non-null    int64\n",
      " 26  Pathology_Micropapillary                          383 non-null    int64\n",
      " 27  Pathology_Papillary                               383 non-null    int64\n",
      " 28  Pathology_Follicular                              383 non-null    int64\n",
      " 29  Pathology_Hurthel cell                            383 non-null    int64\n",
      " 30  Pathology_Micropapillary                          383 non-null    int64\n",
      " 31  Pathology_Papillary                               383 non-null    int64\n",
      " 32  Risk_High                                         383 non-null    int64\n",
      " 33  Risk_Intermediate                                 383 non-null    int64\n",
      " 34  Risk_Low                                          383 non-null    int64\n",
      " 35  T_T1a                                             383 non-null    int64\n",
      " 36  T_T1b                                             383 non-null    int64\n",
      " 37  T_T2                                              383 non-null    int64\n",
      " 38  T_T3a                                             383 non-null    int64\n",
      " 39  T_T3b                                             383 non-null    int64\n",
      " 40  T_T4a                                             383 non-null    int64\n",
      " 41  T_T4b                                             383 non-null    int64\n",
      " 42  N_N0                                              383 non-null    int64\n",
      " 43  N_N1a                                             383 non-null    int64\n",
      " 44  N_N1b                                             383 non-null    int64\n",
      " 45  Stage_I                                           383 non-null    int64\n",
      " 46  Stage_II                                          383 non-null    int64\n",
      " 47  Stage_III                                         383 non-null    int64\n",
      " 48  Stage_IVA                                         383 non-null    int64\n",
      " 49  Stage_IVB                                         383 non-null    int64\n",
      " 50  Response_Biochemical Incomplete                   383 non-null    int64\n",
      " 51  Response_Excellent                                383 non-null    int64\n",
      " 52  Response_Indeterminate                            383 non-null    int64\n",
      " 53  Response_Structural Incomplete                    383 non-null    int64\n",
      "dtypes: int32(7), int64(47)\n",
      "memory usage: 151.2 KB\n"
     ]
    }
   ],
   "source": [
    "tf_map = {False:0, True:1}\n",
    "\n",
    "cols_to_encode = [x for x in range(8,54)]\n",
    "\n",
    "for col_idx in cols_to_encode:\n",
    "    df2.iloc[:, col_idx] = df2.iloc[:, col_idx].map(tf_map)\n",
    "\n",
    "df2.info()"
   ]
  },
  {
   "cell_type": "markdown",
   "id": "b3323eba-567d-446c-be0a-588328d3bec7",
   "metadata": {},
   "source": [
    "TrainTestSplit "
   ]
  },
  {
   "cell_type": "code",
   "execution_count": 9,
   "id": "09163d19-3e16-4746-9ece-010d1f55607b",
   "metadata": {},
   "outputs": [],
   "source": [
    "X1 = df1.loc[:,df1.columns!='Outcome']\n",
    "y1 = df1.loc[:,'Outcome']\n",
    "\n",
    "X2 = df2.loc[:,df2.columns!='Recurred']\n",
    "y2 = df2.loc[:,'Recurred']\n",
    "\n",
    "# a) 75%-25%\n",
    "X1_train_A, X1_test_A, y1_train_A, y1_test_A = train_test_split(X1, y1, test_size=0.25, random_state=42)\n",
    "X2_train_A, X2_test_A, y2_train_A, y2_test_A = train_test_split(X2, y2, test_size=0.25, random_state=42)\n",
    "\n",
    "# b) 66.6%-33.3%\n",
    "X1_train_B, X1_test_B, y1_train_B, y1_test_B = train_test_split(X1, y1, test_size=0.33, random_state=42)\n",
    "X2_train_B, X2_test_B, y2_train_B, y2_test_B = train_test_split(X2, y2, test_size=0.33, random_state=42)\n"
   ]
  },
  {
   "cell_type": "markdown",
   "id": "fb86f16f-b684-49e7-923d-414e0b5370cb",
   "metadata": {},
   "source": [
    "5.1 Evaluation on Train-Test Split as 75-25 and 66.6-33.3"
   ]
  },
  {
   "cell_type": "code",
   "execution_count": 10,
   "id": "a3a4e735-f48f-4adf-bed8-f0bbf1ebbc5c",
   "metadata": {},
   "outputs": [
    {
     "name": "stdout",
     "output_type": "stream",
     "text": [
      "For DF1: 75% Train - 25% Test\n",
      "   KNN Accuracy: 0.66\n",
      "   Naive Bayes Accuracy: 0.73\n",
      "   Decision Tree Accuracy: 0.69\n",
      "\n",
      "For DF1: 66.6% Train - 33.3% Test\n",
      "   KNN Accuracy: 0.70\n",
      "   Naive Bayes Accuracy: 0.74\n",
      "   Decision Tree Accuracy: 0.71\n",
      "\n",
      "For DF2: 75% Train - 25% Test\n",
      "   KNN Accuracy: 0.89\n",
      "   Naive Bayes Accuracy: 0.96\n",
      "   Decision Tree Accuracy: 0.95\n",
      "\n",
      "For DF2: 66.6% Train - 33.3% Test\n",
      "   KNN Accuracy: 0.86\n",
      "   Naive Bayes Accuracy: 0.94\n",
      "   Decision Tree Accuracy: 0.96\n"
     ]
    }
   ],
   "source": [
    "classifiers = {\n",
    "    \"KNN\": KNeighborsClassifier(),\n",
    "    \"Naive Bayes\": GaussianNB(),\n",
    "    \"Decision Tree\": DecisionTreeClassifier()\n",
    "}\n",
    "\n",
    "\n",
    "print('For DF1: 75% Train - 25% Test')\n",
    "for name, clf in classifiers.items():\n",
    "    # Train the classifier\n",
    "    clf.fit(X1_train_A, y1_train_A)\n",
    "\n",
    "    # Evaluate the classifier\n",
    "    y_pred = clf.predict(X1_test_A)\n",
    "    accuracy = accuracy_score(y1_test_A, y_pred)\n",
    "    print('  ',f\"{name} Accuracy: {accuracy:.2f}\")\n",
    "\n",
    "\n",
    "print('\\nFor DF1: 66.6% Train - 33.3% Test')\n",
    "for name, clf in classifiers.items():\n",
    "    # Train the classifier\n",
    "    clf.fit(X1_train_B, y1_train_B)\n",
    "    \n",
    "    # Evaluate the classifier\n",
    "    y_pred = clf.predict(X1_test_B)\n",
    "    accuracy = accuracy_score(y1_test_B, y_pred)\n",
    "    print('  ',f\"{name} Accuracy: {accuracy:.2f}\")\n",
    "\n",
    "print('\\nFor DF2: 75% Train - 25% Test')\n",
    "for name, clf in classifiers.items():\n",
    "    # Train the classifier\n",
    "    clf.fit(X2_train_A, y2_train_A)\n",
    "\n",
    "    # Evaluate the classifier\n",
    "    y_pred = clf.predict(X2_test_A)\n",
    "    accuracy = accuracy_score(y2_test_A, y_pred)\n",
    "    print('  ',f\"{name} Accuracy: {accuracy:.2f}\")\n",
    "\n",
    "print('\\nFor DF2: 66.6% Train - 33.3% Test')\n",
    "for name, clf in classifiers.items():\n",
    "    # Train the classifier\n",
    "    clf.fit(X2_train_B, y2_train_B)\n",
    "\n",
    "    # Evaluate the classifier\n",
    "    y_pred = clf.predict(X2_test_B)\n",
    "    accuracy = accuracy_score(y2_test_B, y_pred)\n",
    "    print('  ',f\"{name} Accuracy: {accuracy:.2f}\")"
   ]
  },
  {
   "cell_type": "markdown",
   "id": "48f141f1-c145-4dc2-bfe2-f6ef663efa81",
   "metadata": {},
   "source": [
    "5.2 Evaluation using Holdout, Random Subsampling and 5-Fold CV"
   ]
  },
  {
   "cell_type": "code",
   "execution_count": 73,
   "id": "5af405f2-1da6-4092-8af4-997ee8ac1c30",
   "metadata": {},
   "outputs": [
    {
     "name": "stdout",
     "output_type": "stream",
     "text": [
      "Holdout Method for DF1: 70% Train - 30% Test\n",
      "   KNN Accuracy: 0.71\n",
      "   Naive Bayes Accuracy: 0.74\n",
      "   Decision Tree Accuracy: 0.76\n",
      "\n",
      "Holdout Method for DF2: 70% Train - 30% Test\n",
      "   KNN Accuracy: 0.94\n",
      "   Naive Bayes Accuracy: 0.93\n",
      "   Decision Tree Accuracy: 0.91\n"
     ]
    }
   ],
   "source": [
    "# a) holdout (70%-30%)\n",
    "\n",
    "X1_train, X1_test, y1_train, y1_test = train_test_split(X1, y1, test_size=0.3, stratify=y1, random_state=42)\n",
    "X2_train, X2_test, y2_train, y2_test = train_test_split(X2, y2, test_size=0.3, stratify=y2, random_state=42)\n",
    "\n",
    "print('Holdout Method for DF1: 70% Train - 30% Test')\n",
    "for name, clf in classifiers.items():\n",
    "    # Train the classifier\n",
    "    clf.fit(X1_train, y1_train)\n",
    "\n",
    "    # Evaluate the classifier\n",
    "    y_pred = clf.predict(X1_test)\n",
    "    accuracy = accuracy_score(y1_test, y_pred)\n",
    "    print('  ',f\"{name} Accuracy: {accuracy:.2f}\")\n",
    "\n",
    "print('\\nHoldout Method for DF2: 70% Train - 30% Test')\n",
    "for name, clf in classifiers.items():\n",
    "    # Train the classifier\n",
    "    clf.fit(X2_train, y2_train)\n",
    "\n",
    "    # Evaluate the classifier\n",
    "    y_pred = clf.predict(X2_test)\n",
    "    accuracy = accuracy_score(y2_test, y_pred)\n",
    "    print('  ',f\"{name} Accuracy: {accuracy:.2f}\")\n"
   ]
  },
  {
   "cell_type": "code",
   "execution_count": 11,
   "id": "44fa25bb-fdf3-4a5c-bad5-494c1dcfd56d",
   "metadata": {},
   "outputs": [
    {
     "name": "stdout",
     "output_type": "stream",
     "text": [
      "Random Subsample for DF1:\n",
      "   KNN Accuracy: 0.68\n",
      "   Naive Bayes Accuracy: 0.75\n",
      "   Decision Tree Accuracy: 0.73\n",
      "\n",
      "Random Subsample for DF2:\n",
      "   KNN Accuracy: 0.87\n",
      "   Naive Bayes Accuracy: 0.95\n",
      "   Decision Tree Accuracy: 0.97\n"
     ]
    }
   ],
   "source": [
    "# b) random subsample \n",
    "\n",
    "X1_train_1, X1_test_1, y1_train_1, y1_test_1 = train_test_split(X1, y1, test_size=0.2, random_state=42) # 80-20\n",
    "X1_train_2, X1_test_2, y1_train_2, y1_test_2 = train_test_split(X1, y1, test_size=0.33, random_state=42) # 66.6-33.3\n",
    "X1_train_3, X1_test_3, y1_train_3, y1_test_3 = train_test_split(X1, y1, test_size=0.3, random_state=42) # 70-30\n",
    "\n",
    "X2_train_1, X2_test_1, y2_train_1, y2_test_1 = train_test_split(X2, y2, test_size=0.2, random_state=42) # 80-20\n",
    "X2_train_2, X2_test_2, y2_train_2, y2_test_2 = train_test_split(X2, y2, test_size=0.33, random_state=42) # 66.6-33.3\n",
    "X2_train_3, X2_test_3, y2_train_3, y2_test_3 = train_test_split(X2, y2, test_size=0.3, random_state=42) # 70-30\n",
    "\n",
    "\n",
    "\n",
    "print('Random Subsample for DF1:')\n",
    "for name, clf in classifiers.items():\n",
    "    # Train the classifier\n",
    "    clf.fit(X1_train_1, y1_train_1)\n",
    "    y_pred_1 = clf.predict(X1_test_1)\n",
    "    acc_1 = accuracy_score(y1_test_1, y_pred_1)\n",
    "\n",
    "    clf.fit(X1_train_2, y1_train_2)\n",
    "    y_pred_2 = clf.predict(X1_test_2)\n",
    "    acc_2 = accuracy_score(y1_test_2, y_pred_2)\n",
    "\n",
    "    clf.fit(X1_train_3, y1_train_3)\n",
    "    y_pred_3 = clf.predict(X1_test_3)\n",
    "    acc_3 = accuracy_score(y1_test_3, y_pred_3)\n",
    "    \n",
    "    accuracy = (acc_1 + acc_2 + acc_3)/3\n",
    "    \n",
    "    print('  ',f\"{name} Accuracy: {accuracy:.2f}\")\n",
    "\n",
    "print('\\nRandom Subsample for DF2:')\n",
    "for name, clf in classifiers.items():\n",
    "    # Train the classifier\n",
    "    clf.fit(X2_train_1, y2_train_1)\n",
    "    y_pred_1 = clf.predict(X2_test_1)\n",
    "    acc_1 = accuracy_score(y2_test_1, y_pred_1)\n",
    "\n",
    "    clf.fit(X2_train_2, y2_train_2)\n",
    "    y_pred_2 = clf.predict(X2_test_2)\n",
    "    acc_2 = accuracy_score(y2_test_2, y_pred_2)\n",
    "\n",
    "    clf.fit(X2_train_3, y2_train_3)\n",
    "    y_pred_3 = clf.predict(X2_test_3)\n",
    "    acc_3 = accuracy_score(y2_test_3, y_pred_3)\n",
    "\n",
    "    accuracy = (acc_1 + acc_2 + acc_3)/3\n",
    "    \n",
    "    print('  ',f\"{name} Accuracy: {accuracy:.2f}\")\n"
   ]
  },
  {
   "cell_type": "code",
   "execution_count": 71,
   "id": "6714ffe6-f969-4fd1-a5f3-88e3133671e7",
   "metadata": {},
   "outputs": [
    {
     "name": "stdout",
     "output_type": "stream",
     "text": [
      "5-Fold CV for DF1:\n",
      "KNeighborsClassifier() --> 0.69 ± 0.02\n",
      "GaussianNB() --> 0.75 ± 0.02\n",
      "DecisionTreeClassifier() --> 0.72 ± 0.02\n",
      "\n",
      "5-Fold CV for DF2:\n",
      "KNeighborsClassifier() --> 0.88 ± 0.03\n",
      "GaussianNB() --> 0.95 ± 0.01\n",
      "DecisionTreeClassifier() --> 0.93 ± 0.03\n"
     ]
    }
   ],
   "source": [
    "# c) 5-Fold Cross-Validation \n",
    "\n",
    "k = 5\n",
    "kf = KFold(n_splits=k, shuffle=True, random_state=42)\n",
    "\n",
    "scoring = ['accuracy']\n",
    "\n",
    "models = [KNeighborsClassifier(),GaussianNB(),DecisionTreeClassifier()]\n",
    "\n",
    "print('5-Fold CV for DF1:')\n",
    "for model in models:\n",
    "    result = list()\n",
    "    scores = cross_validate(model, X1, y1, cv=kf, scoring=scoring)\n",
    "    \n",
    "    for value in scores:\n",
    "        v = str(value)\n",
    "        mean_score = scores[v].mean()\n",
    "        std_score = scores[v].std()\n",
    "        if (v == \"fit_time\" or v ==\"score_time\"):\n",
    "          pass\n",
    "        else:\n",
    "          print(f\"{model} --> {mean_score:.2f} ± {std_score:.2f}\")\n",
    "\n",
    "print('\\n5-Fold CV for DF2:')\n",
    "for model in models:\n",
    "    result = list()\n",
    "    scores = cross_validate(model, X2, y2, cv=kf, scoring=scoring)\n",
    "    \n",
    "    for value in scores:\n",
    "        v = str(value)\n",
    "        mean_score = scores[v].mean()\n",
    "        std_score = scores[v].std()\n",
    "        if (v == \"fit_time\" or v ==\"score_time\"):\n",
    "          pass\n",
    "        else:\n",
    "          print(f\"{model} --> {mean_score:.2f} ± {std_score:.2f}\")"
   ]
  },
  {
   "cell_type": "markdown",
   "id": "2389458b-2bae-4aef-8f8d-282fba9a9f02",
   "metadata": {},
   "source": [
    "5.3 Results After Scaling the Values"
   ]
  },
  {
   "cell_type": "code",
   "execution_count": 75,
   "id": "dd9b8f55-3a7a-4c91-b885-5957870f7e21",
   "metadata": {},
   "outputs": [
    {
     "name": "stdout",
     "output_type": "stream",
     "text": [
      "After Scaling values for DF1: 80% Train - 20% Test\n",
      "   KNN Accuracy: 0.71\n",
      "   Naive Bayes Accuracy: 0.71\n",
      "   Decision Tree Accuracy: 0.75\n",
      "\n",
      "After Scaling values for DF2: 80% Train - 20% Test\n",
      "   KNN Accuracy: 0.95\n",
      "   Naive Bayes Accuracy: 0.94\n",
      "   Decision Tree Accuracy: 0.94\n"
     ]
    }
   ],
   "source": [
    "scaler = StandardScaler()\n",
    "\n",
    "X1 = scaler.fit_transform(X1)\n",
    "X2 = scaler.fit_transform(X2)\n",
    "\n",
    "X1_train, X1_test, y1_train, y1_test = train_test_split(X1, y1, test_size=0.2, stratify=y1, random_state=42)\n",
    "X2_train, X2_test, y2_train, y2_test = train_test_split(X2, y2, test_size=0.2, stratify=y2, random_state=42)\n",
    "\n",
    "print('After Scaling values for DF1: 80% Train - 20% Test')\n",
    "for name, clf in classifiers.items():\n",
    "    # Train the classifier\n",
    "    clf.fit(X1_train, y1_train)\n",
    "\n",
    "    # Evaluate the classifier\n",
    "    y_pred = clf.predict(X1_test)\n",
    "    accuracy = accuracy_score(y1_test, y_pred)\n",
    "    print('  ',f\"{name} Accuracy: {accuracy:.2f}\")\n",
    "\n",
    "print('\\nAfter Scaling values for DF2: 80% Train - 20% Test')\n",
    "for name, clf in classifiers.items():\n",
    "    # Train the classifier\n",
    "    clf.fit(X2_train, y2_train)\n",
    "\n",
    "    # Evaluate the classifier\n",
    "    y_pred = clf.predict(X2_test)\n",
    "    accuracy = accuracy_score(y2_test, y_pred)\n",
    "    print('  ',f\"{name} Accuracy: {accuracy:.2f}\")\n"
   ]
  }
 ],
 "metadata": {
  "kernelspec": {
   "display_name": "Python 3 (ipykernel)",
   "language": "python",
   "name": "python3"
  },
  "language_info": {
   "codemirror_mode": {
    "name": "ipython",
    "version": 3
   },
   "file_extension": ".py",
   "mimetype": "text/x-python",
   "name": "python",
   "nbconvert_exporter": "python",
   "pygments_lexer": "ipython3",
   "version": "3.12.0b2"
  }
 },
 "nbformat": 4,
 "nbformat_minor": 5
}
